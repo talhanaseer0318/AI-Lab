{
 "cells": [
  {
   "attachments": {},
   "cell_type": "markdown",
   "metadata": {},
   "source": [
    "# Name: Talha Naseer\n",
    "# RegNo: 202101016\n",
    "# Lab1"
   ]
  },
  {
   "attachments": {},
   "cell_type": "markdown",
   "metadata": {},
   "source": [
    "# -------------------"
   ]
  },
  {
   "attachments": {},
   "cell_type": "markdown",
   "metadata": {},
   "source": [
    "# Example 01: Variables"
   ]
  },
  {
   "cell_type": "code",
   "execution_count": 2,
   "metadata": {},
   "outputs": [
    {
     "name": "stdout",
     "output_type": "stream",
     "text": [
      "Fierst_jpynb\n"
     ]
    }
   ],
   "source": [
    "print(\"Fierst_jpynb\")"
   ]
  },
  {
   "cell_type": "code",
   "execution_count": null,
   "metadata": {},
   "outputs": [],
   "source": []
  },
  {
   "cell_type": "code",
   "execution_count": 3,
   "metadata": {},
   "outputs": [
    {
     "name": "stdout",
     "output_type": "stream",
     "text": [
      "The data type of i is <class 'int'>\n"
     ]
    }
   ],
   "source": [
    "i = 10\n",
    "print(\"The data type of i is\", type(i))\n"
   ]
  },
  {
   "cell_type": "markdown",
   "metadata": {},
   "source": []
  },
  {
   "cell_type": "code",
   "execution_count": 4,
   "metadata": {},
   "outputs": [
    {
     "name": "stdout",
     "output_type": "stream",
     "text": [
      "The data type of j is  <class 'float'>\n"
     ]
    }
   ],
   "source": [
    "j = 0.9\n",
    "print(\"The data type of j is \", type(j))\n"
   ]
  },
  {
   "cell_type": "code",
   "execution_count": 5,
   "metadata": {},
   "outputs": [
    {
     "name": "stdout",
     "output_type": "stream",
     "text": [
      "The data type of check is  <class 'bool'>\n"
     ]
    }
   ],
   "source": [
    "check = True\n",
    "print(\"The data type of check is \", type(check))"
   ]
  },
  {
   "attachments": {},
   "cell_type": "markdown",
   "metadata": {},
   "source": [
    "Example 02: Input Function"
   ]
  },
  {
   "cell_type": "code",
   "execution_count": 6,
   "metadata": {},
   "outputs": [
    {
     "data": {
      "text/plain": [
       "'3'"
      ]
     },
     "execution_count": 6,
     "metadata": {},
     "output_type": "execute_result"
    }
   ],
   "source": [
    "\n",
    "num1 = input(\"Enter 1st Number = \")\n",
    "num1"
   ]
  },
  {
   "cell_type": "code",
   "execution_count": 7,
   "metadata": {},
   "outputs": [
    {
     "data": {
      "text/plain": [
       "3"
      ]
     },
     "execution_count": 7,
     "metadata": {},
     "output_type": "execute_result"
    }
   ],
   "source": [
    "num1 = int(num1)\n",
    "num1"
   ]
  },
  {
   "cell_type": "code",
   "execution_count": 8,
   "metadata": {},
   "outputs": [
    {
     "data": {
      "text/plain": [
       "4"
      ]
     },
     "execution_count": 8,
     "metadata": {},
     "output_type": "execute_result"
    }
   ],
   "source": [
    "num2 = int(input(\"Enter 2nd Number = \"))\n",
    "num2"
   ]
  },
  {
   "cell_type": "code",
   "execution_count": 9,
   "metadata": {},
   "outputs": [
    {
     "data": {
      "text/plain": [
       "7"
      ]
     },
     "execution_count": 9,
     "metadata": {},
     "output_type": "execute_result"
    }
   ],
   "source": [
    "add = num1 + num2\n",
    "add"
   ]
  },
  {
   "cell_type": "code",
   "execution_count": 10,
   "metadata": {},
   "outputs": [
    {
     "data": {
      "text/plain": [
       "12"
      ]
     },
     "execution_count": 10,
     "metadata": {},
     "output_type": "execute_result"
    }
   ],
   "source": [
    "Mul = num1 * num2\n",
    "Mul\n"
   ]
  },
  {
   "cell_type": "code",
   "execution_count": 11,
   "metadata": {},
   "outputs": [
    {
     "data": {
      "text/plain": [
       "3"
      ]
     },
     "execution_count": 11,
     "metadata": {},
     "output_type": "execute_result"
    }
   ],
   "source": [
    "Mod = num1%num2\n",
    "Mod\n"
   ]
  },
  {
   "cell_type": "code",
   "execution_count": 12,
   "metadata": {},
   "outputs": [
    {
     "name": "stdout",
     "output_type": "stream",
     "text": [
      "The addition of numbers is  9\n",
      "The subtraction of numbers is  1\n",
      "The multiplication of numbers is  20\n",
      "The division of numbers is  1.25\n",
      "The modulus of numbers is  1\n",
      "The exponent of numbers is  625\n",
      "The AND of numbers is  4\n",
      "The OR of numbers is  5\n",
      "The NOT of numbers is  False\n"
     ]
    }
   ],
   "source": [
    "x1 = input('Enter 1st number = ')\n",
    "y1 = input('Enter 2nd number = ')\n",
    "x=int(x1)\n",
    "y=int(y1)\n",
    "add=x+y\n",
    "sub=x-y\n",
    "mul=x*y\n",
    "div=x/y\n",
    "mod=x%y\n",
    "exp=x**y\n",
    "a=x and y\n",
    "b=x or y\n",
    "c=not x \n",
    "#print\n",
    "print(\"The addition of numbers is \",add) \n",
    "print(\"The subtraction of numbers is \", sub) \n",
    "print(\"The multiplication of numbers is \",mul) \n",
    "print(\"The division of numbers is \",div) \n",
    "print(\"The modulus of numbers is \", mod) \n",
    "print(\"The exponent of numbers is \",exp) \n",
    "print(\"The AND of numbers is \",a) \n",
    "print(\"The OR of numbers is \",b)\n",
    "print(\"The NOT of numbers is \",c)"
   ]
  },
  {
   "attachments": {},
   "cell_type": "markdown",
   "metadata": {},
   "source": [
    "# Example 03: String"
   ]
  },
  {
   "cell_type": "code",
   "execution_count": 13,
   "metadata": {},
   "outputs": [],
   "source": [
    "\n",
    "longStr=input(\"Enter a long string : \")\n"
   ]
  },
  {
   "cell_type": "code",
   "execution_count": 14,
   "metadata": {},
   "outputs": [
    {
     "data": {
      "text/plain": [
       "'Talha'"
      ]
     },
     "execution_count": 14,
     "metadata": {},
     "output_type": "execute_result"
    }
   ],
   "source": [
    "longStr"
   ]
  },
  {
   "cell_type": "code",
   "execution_count": 15,
   "metadata": {},
   "outputs": [
    {
     "name": "stdout",
     "output_type": "stream",
     "text": [
      "The length of given string is 5 includig spaces.\n"
     ]
    }
   ],
   "source": [
    "print(f\"The length of given string is {len(longStr)} includig spaces.\")\n"
   ]
  },
  {
   "cell_type": "code",
   "execution_count": 16,
   "metadata": {},
   "outputs": [
    {
     "name": "stdout",
     "output_type": "stream",
     "text": [
      "The length of given string is {len(longStr)} includig spaces.\n"
     ]
    }
   ],
   "source": [
    "print(\"The length of given string is {len(longStr)} includig spaces.\")\n"
   ]
  },
  {
   "cell_type": "code",
   "execution_count": 17,
   "metadata": {},
   "outputs": [
    {
     "name": "stdout",
     "output_type": "stream",
     "text": [
      "The first character of the given string is  T\n"
     ]
    }
   ],
   "source": [
    "print(\"The first character of the given string is \", longStr[0])\n"
   ]
  },
  {
   "cell_type": "code",
   "execution_count": 18,
   "metadata": {},
   "outputs": [
    {
     "name": "stdout",
     "output_type": "stream",
     "text": [
      "The given string in upper case : \n",
      " TALHA\n"
     ]
    }
   ],
   "source": [
    "print(f\"The given string in upper case : \\n {longStr.upper()}\")\n"
   ]
  },
  {
   "cell_type": "code",
   "execution_count": 19,
   "metadata": {},
   "outputs": [
    {
     "name": "stdout",
     "output_type": "stream",
     "text": [
      "In the given string 'a' has occured : 2 \n"
     ]
    }
   ],
   "source": [
    "print(f\"In the given string 'a' has occured : {longStr.count('a')} \")\n"
   ]
  },
  {
   "cell_type": "code",
   "execution_count": 23,
   "metadata": {},
   "outputs": [
    {
     "data": {
      "text/plain": [
       "'Talha'"
      ]
     },
     "execution_count": 23,
     "metadata": {},
     "output_type": "execute_result"
    }
   ],
   "source": [
    "longStr"
   ]
  },
  {
   "cell_type": "code",
   "execution_count": 20,
   "metadata": {},
   "outputs": [
    {
     "ename": "TypeError",
     "evalue": "replace() takes at least 2 arguments (1 given)",
     "output_type": "error",
     "traceback": [
      "\u001b[0;31m---------------------------------------------------------------------------\u001b[0m",
      "\u001b[0;31mTypeError\u001b[0m                                 Traceback (most recent call last)",
      "\u001b[0;32m/var/folders/jd/1mw4rphs4fxdvsbs3r0mmw780000gn/T/ipykernel_1024/382644374.py\u001b[0m in \u001b[0;36m<module>\u001b[0;34m\u001b[0m\n\u001b[0;32m----> 1\u001b[0;31m \u001b[0mprint\u001b[0m\u001b[0;34m(\u001b[0m\u001b[0;34m\"The replaced string is up: \"\u001b[0m\u001b[0;34m,\u001b[0m\u001b[0mstr\u001b[0m\u001b[0;34m.\u001b[0m\u001b[0mreplace\u001b[0m\u001b[0;34m(\u001b[0m\u001b[0;34m'Ta'\u001b[0m\u001b[0;34m,\u001b[0m\u001b[0;34m'Taa'\u001b[0m\u001b[0;34m)\u001b[0m\u001b[0;34m)\u001b[0m\u001b[0;34m\u001b[0m\u001b[0;34m\u001b[0m\u001b[0m\n\u001b[0m",
      "\u001b[0;31mTypeError\u001b[0m: replace() takes at least 2 arguments (1 given)"
     ]
    }
   ],
   "source": [
    "print(\"The replaced string is up: \",str.replace('Ta','Taa'))\n"
   ]
  },
  {
   "cell_type": "code",
   "execution_count": 22,
   "metadata": {},
   "outputs": [
    {
     "ename": "TypeError",
     "evalue": "replace() takes at least 2 arguments (1 given)",
     "output_type": "error",
     "traceback": [
      "\u001b[0;31m---------------------------------------------------------------------------\u001b[0m",
      "\u001b[0;31mTypeError\u001b[0m                                 Traceback (most recent call last)",
      "\u001b[0;32m/var/folders/jd/1mw4rphs4fxdvsbs3r0mmw780000gn/T/ipykernel_1024/2259371136.py\u001b[0m in \u001b[0;36m<module>\u001b[0;34m\u001b[0m\n\u001b[0;32m----> 1\u001b[0;31m \u001b[0mprint\u001b[0m\u001b[0;34m(\u001b[0m\u001b[0;34m\"The replaced string is up: \"\u001b[0m\u001b[0;34m,\u001b[0m\u001b[0mstr\u001b[0m\u001b[0;34m.\u001b[0m\u001b[0mreplace\u001b[0m\u001b[0;34m(\u001b[0m\u001b[0;34m'Ta'\u001b[0m\u001b[0;34m,\u001b[0m\u001b[0;34m'Cv'\u001b[0m\u001b[0;34m)\u001b[0m\u001b[0;34m)\u001b[0m\u001b[0;34m\u001b[0m\u001b[0;34m\u001b[0m\u001b[0m\n\u001b[0m",
      "\u001b[0;31mTypeError\u001b[0m: replace() takes at least 2 arguments (1 given)"
     ]
    }
   ],
   "source": [
    "print(\"The replaced string is up: \",str.replace('Ta','Cv'))\n"
   ]
  },
  {
   "cell_type": "code",
   "execution_count": 24,
   "metadata": {},
   "outputs": [
    {
     "name": "stdout",
     "output_type": "stream",
     "text": [
      "The replaced string is up:  TAlha\n"
     ]
    }
   ],
   "source": [
    "print(\"The replaced string is up: \",longStr.replace('Ta','TA'))\n"
   ]
  },
  {
   "attachments": {},
   "cell_type": "markdown",
   "metadata": {},
   "source": [
    "# Example 04: Single Line Input in Python"
   ]
  },
  {
   "cell_type": "code",
   "execution_count": 1,
   "metadata": {},
   "outputs": [
    {
     "name": "stdout",
     "output_type": "stream",
     "text": [
      "The average of the numbers entered is =  3.0\n"
     ]
    }
   ],
   "source": [
    "x, y, z=input('Enter three numbers with spaces to distinguish them = ').split(' ')\n",
    "x1 = int(x)\n",
    "x2 = int(y)\n",
    "x3 = int(z)\n",
    "\n",
    "avg=(x1+x2+x3)/3\n",
    "print(\"The average of the numbers entered is = \", avg)\n"
   ]
  },
  {
   "attachments": {},
   "cell_type": "markdown",
   "metadata": {},
   "source": [
    "# Example 05: List"
   ]
  },
  {
   "cell_type": "code",
   "execution_count": 2,
   "metadata": {},
   "outputs": [
    {
     "data": {
      "text/plain": [
       "[1, 2, 'A', 'Aqsa', 3, 4, 'E', 'Esha', 'Ayesha', 'Ayra']"
      ]
     },
     "execution_count": 2,
     "metadata": {},
     "output_type": "execute_result"
    }
   ],
   "source": [
    "list=[1,2, 'A', 'Aqsa',3,4, 'E', 'Esha', 'Ayesha', 'Ayra']\n",
    "list"
   ]
  },
  {
   "cell_type": "code",
   "execution_count": 3,
   "metadata": {},
   "outputs": [
    {
     "name": "stdout",
     "output_type": "stream",
     "text": [
      "The updated list with element of 3rd index =  [1, 2, 'B', 'Aqsa', 3, 4, 'E', 'Esha', 'Ayesha', 'Ayra']\n"
     ]
    }
   ],
   "source": [
    "list[2]='B'\n",
    "\n",
    "print(\"The updated list with element of 3rd index = \",list)"
   ]
  },
  {
   "cell_type": "code",
   "execution_count": 9,
   "metadata": {},
   "outputs": [
    {
     "name": "stdout",
     "output_type": "stream",
     "text": [
      "The reversed list is : ['Ayra', 'Esha', 4, 'Aqsa', 2]\n"
     ]
    }
   ],
   "source": [
    "print(\"The reversed list is :\",list[::-2])\n"
   ]
  },
  {
   "cell_type": "code",
   "execution_count": 10,
   "metadata": {},
   "outputs": [
    {
     "name": "stdout",
     "output_type": "stream",
     "text": [
      "The list after inserting elements of 2nd index is : [1, 66, 45, 2, 'B', 'Aqsa', 3, 4, 'E', 'Esha', 'Ayesha', 'Ayra']\n"
     ]
    }
   ],
   "source": [
    "list.insert(1,45)\n",
    "\n",
    "list.insert(1,66)\n",
    "\n",
    "print(\"The list after inserting elements of 2nd index is :\",list)"
   ]
  },
  {
   "cell_type": "code",
   "execution_count": 11,
   "metadata": {},
   "outputs": [
    {
     "name": "stdout",
     "output_type": "stream",
     "text": [
      "The list after popping element of 1st index is : [66, 45, 2, 'B', 'Aqsa', 3, 4, 'E', 'Esha', 'Ayesha', 'Ayra']\n"
     ]
    }
   ],
   "source": [
    "list.pop(0)\n",
    "\n",
    "print(\"The list after popping element of 1st index is :\", list)\n"
   ]
  },
  {
   "attachments": {},
   "cell_type": "markdown",
   "metadata": {},
   "source": [
    "# Example 06: Dictionary"
   ]
  },
  {
   "cell_type": "code",
   "execution_count": 12,
   "metadata": {},
   "outputs": [
    {
     "data": {
      "text/plain": [
       "{'Artifical': 'made or produced by human beings rather than occurring naturally, especially as a copy of something',\n",
       " 'Intelligence': 'the ability to acquire and apply knowledge and skills.',\n",
       " 2021: 'The current year'}"
      ]
     },
     "execution_count": 12,
     "metadata": {},
     "output_type": "execute_result"
    }
   ],
   "source": [
    "mydict={ \"Artifical\" : \"made or produced by human beings rather than occurring naturally, especially as a copy of something\",\n",
    "        \"Intelligence\" : \"the ability to acquire and apply knowledge and skills.\",\n",
    "        2021: \"The current year\"}\n",
    "mydict"
   ]
  },
  {
   "cell_type": "code",
   "execution_count": 13,
   "metadata": {},
   "outputs": [
    {
     "name": "stdout",
     "output_type": "stream",
     "text": [
      "The keys in the given Dictionary are \n",
      " dict_keys(['Artifical', 'Intelligence', 2021])\n"
     ]
    }
   ],
   "source": [
    "print(f\"The keys in the given Dictionary are \\n {mydict.keys()}\")\n"
   ]
  },
  {
   "cell_type": "code",
   "execution_count": 14,
   "metadata": {},
   "outputs": [
    {
     "name": "stdout",
     "output_type": "stream",
     "text": [
      "The values in the given Dictionary are \n",
      " dict_values(['made or produced by human beings rather than occurring naturally, especially as a copy of something', 'the ability to acquire and apply knowledge and skills.', 'The current year'])\n"
     ]
    }
   ],
   "source": [
    "print(f\"The values in the given Dictionary are \\n {mydict.values()}\")\n"
   ]
  },
  {
   "cell_type": "code",
   "execution_count": 15,
   "metadata": {},
   "outputs": [
    {
     "name": "stdout",
     "output_type": "stream",
     "text": [
      "The original dictionary is\n",
      "\n",
      " {'Artifical': 'made or produced by human beings rather than occurring naturally, especially as a copy of something', 'Intelligence': 'the ability to acquire and apply knowledge and skills.', 2021: 'The current year'}\n",
      "\n",
      " Inserting new key pair in dictionary \n",
      "\n",
      "Updated Dictionary is \n",
      "\n",
      "{'Artifical': 'made or produced by human beings rather than occurring naturally, especially as a copy of something', 'Intelligence': 'the ability to acquire and apply knowledge and skills.', 2021: 'The current year', 'Ali': 'Height/limit/shore/Remote/Farthest', 'laboratory': 'a room or building equipped for scientific experiments, research, or teaching, or for the manufacture of drugs or chemicals'}\n"
     ]
    }
   ],
   "source": [
    "print(\"The original dictionary is\\n\\n\", mydict)\n",
    "\n",
    "updatedict={\"Ali\": \"Height/limit/shore/Remote/Farthest\",\n",
    "            \"laboratory\":\"a room or building equipped for scientific experiments, research, or teaching, or for the manufacture of drugs or chemicals\"}\n",
    "\n",
    "print(\"\\n Inserting new key pair in dictionary \\n\\nUpdated Dictionary is \\n\")\n",
    "\n",
    "mydict.update(updatedict)\n",
    "\n",
    "print(mydict)"
   ]
  },
  {
   "cell_type": "code",
   "execution_count": 16,
   "metadata": {},
   "outputs": [
    {
     "data": {
      "text/plain": [
       "{'Artifical': 'made or produced by human beings rather than occurring naturally, especially as a copy of something',\n",
       " 'Intelligence': 'the ability to acquire and apply knowledge and skills.',\n",
       " 2021: 'The current year',\n",
       " 'Ali': 'Height/limit/shore/Remote/Farthest',\n",
       " 'laboratory': 'a room or building equipped for scientific experiments, research, or teaching, or for the manufacture of drugs or chemicals'}"
      ]
     },
     "execution_count": 16,
     "metadata": {},
     "output_type": "execute_result"
    }
   ],
   "source": [
    "dictCopy = mydict.copy()\n",
    "\n",
    "dictCopy"
   ]
  },
  {
   "attachments": {},
   "cell_type": "markdown",
   "metadata": {},
   "source": [
    "# Example 07: Decision Making Statements"
   ]
  },
  {
   "cell_type": "code",
   "execution_count": 17,
   "metadata": {},
   "outputs": [
    {
     "name": "stdout",
     "output_type": "stream",
     "text": [
      "a is greater then b\n"
     ]
    }
   ],
   "source": [
    "a = 5\n",
    "b = 2\n",
    "\n",
    "if a > b:\n",
    "    print(\"a is greater then b\")\n",
    "elif b > a:\n",
    "    print(\"a is less then b\")\n",
    "else:\n",
    "    print(\"a and b are equal\")"
   ]
  },
  {
   "cell_type": "code",
   "execution_count": 18,
   "metadata": {},
   "outputs": [
    {
     "name": "stdout",
     "output_type": "stream",
     "text": [
      "a is less then b\n"
     ]
    }
   ],
   "source": [
    "a = int(input(\"Enter value of a: \"))\n",
    "b = int(input(\"Enter value of b: \"))\n",
    "\n",
    "if a > b:\n",
    "    print(\"a is greater then b\")\n",
    "elif b > a:\n",
    "    print(\"a is less then b\")\n",
    "else:\n",
    "    print(\"a and b are equal\")"
   ]
  },
  {
   "attachments": {},
   "cell_type": "markdown",
   "metadata": {},
   "source": [
    "# Example 08: For Loop"
   ]
  },
  {
   "cell_type": "code",
   "execution_count": 19,
   "metadata": {},
   "outputs": [
    {
     "name": "stdout",
     "output_type": "stream",
     "text": [
      "Implementing for loop :\n",
      "P\n",
      "Y\n",
      "T\n",
      "H\n",
      "O\n",
      "N\n",
      "\n",
      "\n",
      "Removing Newline from print statement : \n",
      "PYTHON\n",
      "\n",
      "Adding different characters/symbol in print statement: \n",
      "P*Y*T*H*O*N*"
     ]
    }
   ],
   "source": [
    "print(\"Implementing for loop :\")\n",
    "\n",
    "for i in \"PYTHON\":\n",
    "    print (i)\n",
    "\n",
    "print(\"\\n\\nRemoving Newline from print statement : \")\n",
    "\n",
    "for i in \"PYTHON\":\n",
    "    print (i,end='')\n",
    "\n",
    "print(\"\\n\\nAdding different characters/symbol in print statement: \")\n",
    "\n",
    "for i in \"PYTHON\":\n",
    "    print (i, end='*')"
   ]
  },
  {
   "cell_type": "code",
   "execution_count": 20,
   "metadata": {},
   "outputs": [
    {
     "name": "stdout",
     "output_type": "stream",
     "text": [
      "Implementing for loop :\n",
      "1\n",
      "2\n",
      "3\n",
      "4\n",
      "5\n",
      "6\n",
      "\n",
      "\n",
      "Removing Newline from print statement : \n",
      "123456\n",
      "\n",
      "Adding different characters/symbol in print statement: \n",
      "1*2*3*4*5*6*"
     ]
    }
   ],
   "source": [
    "list = [1,2,3,4,5,6]\n",
    "\n",
    "print(\"Implementing for loop :\")\n",
    "\n",
    "for i in list:\n",
    "    print (i)\n",
    "\n",
    "print(\"\\n\\nRemoving Newline from print statement : \")\n",
    "\n",
    "for i in list:\n",
    "    print (i,end='')\n",
    "\n",
    "print(\"\\n\\nAdding different characters/symbol in print statement: \")\n",
    "\n",
    "for i in list:\n",
    "    print (i, end='*')"
   ]
  },
  {
   "cell_type": "code",
   "execution_count": 21,
   "metadata": {},
   "outputs": [
    {
     "name": "stdout",
     "output_type": "stream",
     "text": [
      "1\n",
      "2\n",
      "3\n",
      "4\n",
      "5\n",
      "6\n",
      "7\n",
      "8\n",
      "9\n",
      "10\n",
      "\n",
      "after chnaging the step size to 2\n",
      "\n",
      "1\n",
      "3\n",
      "5\n",
      "7\n",
      "9\n"
     ]
    }
   ],
   "source": [
    "for i in range(1, 11):\n",
    "    print(i)\n",
    "\n",
    "print(\"\\nafter chnaging the step size to 2\\n\")\n",
    "\n",
    "for i in range(1, 11, 2):\n",
    "    print(i)"
   ]
  },
  {
   "cell_type": "code",
   "execution_count": 22,
   "metadata": {},
   "outputs": [
    {
     "name": "stdout",
     "output_type": "stream",
     "text": [
      "2  *  1 =  2\n",
      "2  *  2 =  4\n",
      "2  *  3 =  6\n",
      "2  *  4 =  8\n",
      "2  *  5 =  10\n",
      "2  *  6 =  12\n",
      "2  *  7 =  14\n",
      "2  *  8 =  16\n",
      "2  *  9 =  18\n",
      "2  *  10 =  20\n"
     ]
    }
   ],
   "source": [
    "a = int(input(\"Enter the number for which you want to print table: \"))\n",
    "\n",
    "for i in range(1, 11):\n",
    "    print(f\"{a}  *  {i} =  {i*a}\")"
   ]
  },
  {
   "cell_type": "code",
   "execution_count": 23,
   "metadata": {},
   "outputs": [
    {
     "name": "stdout",
     "output_type": "stream",
     "text": [
      "Artifical\n",
      "Intelligence\n",
      "2021\n"
     ]
    }
   ],
   "source": [
    "mydict={ \"Artifical\" : \"made or produced by human beings rather than occurring naturally, especially as a copy of something\",\n",
    "        \"Intelligence\" : \"the ability to acquire and apply knowledge and skills.\",\n",
    "        2021: \"The current year\"}\n",
    "\n",
    "for i in mydict:\n",
    "    print(i)"
   ]
  },
  {
   "cell_type": "code",
   "execution_count": 24,
   "metadata": {},
   "outputs": [
    {
     "name": "stdout",
     "output_type": "stream",
     "text": [
      "made or produced by human beings rather than occurring naturally, especially as a copy of something\n",
      "the ability to acquire and apply knowledge and skills.\n",
      "The current year\n"
     ]
    }
   ],
   "source": [
    "mydict={ \"Artifical\" : \"made or produced by human beings rather than occurring naturally, especially as a copy of something\",\n",
    "        \"Intelligence\" : \"the ability to acquire and apply knowledge and skills.\",\n",
    "        2021: \"The current year\"}\n",
    "\n",
    "for i in mydict:\n",
    "    print(mydict[i])"
   ]
  },
  {
   "cell_type": "code",
   "execution_count": 25,
   "metadata": {},
   "outputs": [
    {
     "name": "stdout",
     "output_type": "stream",
     "text": [
      "6,16,26,36,46,56,66,76,86,96,\n",
      "the total number is  10\n"
     ]
    }
   ],
   "source": [
    "count = 0\n",
    "for i in range(1, 101, 5):\n",
    "    if i%2 == 0:\n",
    "        print(i, end=\",\")\n",
    "        count +=1\n",
    "print(\"\\nthe total number is \", count)"
   ]
  },
  {
   "cell_type": "code",
   "execution_count": 26,
   "metadata": {},
   "outputs": [
    {
     "name": "stdout",
     "output_type": "stream",
     "text": [
      "[4, 4, 3]\n"
     ]
    }
   ],
   "source": [
    "lis = []\n",
    "\n",
    "for i in range(1, 4):\n",
    "    a = int(input(\"Enter the element: \"))\n",
    "    lis.append(a)\n",
    "print(lis)"
   ]
  },
  {
   "attachments": {},
   "cell_type": "markdown",
   "metadata": {},
   "source": [
    "# Example 09: While Loop"
   ]
  },
  {
   "cell_type": "code",
   "execution_count": 27,
   "metadata": {},
   "outputs": [
    {
     "name": "stdout",
     "output_type": "stream",
     "text": [
      "0\n",
      "1\n",
      "2\n",
      "3\n",
      "4\n",
      "5\n",
      "6\n",
      "7\n",
      "8\n",
      "9\n"
     ]
    }
   ],
   "source": [
    "i = 0\n",
    "\n",
    "while i < 10:\n",
    "    print(i)\n",
    "    i += 1"
   ]
  },
  {
   "cell_type": "code",
   "execution_count": 28,
   "metadata": {},
   "outputs": [
    {
     "name": "stdout",
     "output_type": "stream",
     "text": [
      "The input list is \n",
      " [2, 3, 4, 5, 6, 1, 2, 3, 4, 2]\n",
      "The greatest number amongst the list is :  6\n"
     ]
    }
   ],
   "source": [
    "i=0\n",
    "j=1\n",
    "lis = []\n",
    "while (i<10):\n",
    "    a=int (input(\"Enter the element : \"))\n",
    "    lis.append(a)\n",
    "\n",
    "    i=i+1\n",
    "\n",
    "print(\"The input list is \\n\", lis )\n",
    "\n",
    "maxi=lis[0]\n",
    "\n",
    "while (j<10):\n",
    "    if(maxi<lis [j]):\n",
    "        maxi=lis[j]\n",
    "    j=j+1\n",
    "\n",
    "print(\"The greatest number amongst the list is : \", maxi)"
   ]
  },
  {
   "attachments": {},
   "cell_type": "markdown",
   "metadata": {},
   "source": [
    "# Example 10: Functions"
   ]
  },
  {
   "cell_type": "code",
   "execution_count": 29,
   "metadata": {},
   "outputs": [
    {
     "name": "stdout",
     "output_type": "stream",
     "text": [
      "This is my Function\n"
     ]
    }
   ],
   "source": [
    "def myFunc():\n",
    "    print(\"This is my Function\")\n",
    "    \n",
    "myFunc()"
   ]
  },
  {
   "cell_type": "code",
   "execution_count": 30,
   "metadata": {},
   "outputs": [],
   "source": [
    "def addAB(a, b):\n",
    "    sum = a + b\n",
    "    return sum\n"
   ]
  },
  {
   "cell_type": "code",
   "execution_count": 31,
   "metadata": {},
   "outputs": [
    {
     "name": "stdout",
     "output_type": "stream",
     "text": [
      "8\n"
     ]
    }
   ],
   "source": [
    "sum = addAB(3, 5)\n",
    "print(sum)"
   ]
  },
  {
   "cell_type": "code",
   "execution_count": 32,
   "metadata": {},
   "outputs": [
    {
     "data": {
      "text/plain": [
       "7"
      ]
     },
     "execution_count": 32,
     "metadata": {},
     "output_type": "execute_result"
    }
   ],
   "source": [
    "def addAB(a, b):\n",
    "    return a+b\n",
    "addAB(4, 3)"
   ]
  },
  {
   "cell_type": "code",
   "execution_count": 40,
   "metadata": {},
   "outputs": [],
   "source": [
    "def addAB(a = 1, b = 1):\n",
    "    return a + b"
   ]
  },
  {
   "cell_type": "code",
   "execution_count": 41,
   "metadata": {},
   "outputs": [
    {
     "data": {
      "text/plain": [
       "5"
      ]
     },
     "execution_count": 41,
     "metadata": {},
     "output_type": "execute_result"
    }
   ],
   "source": [
    "addAB(a=4)\n"
   ]
  },
  {
   "attachments": {},
   "cell_type": "markdown",
   "metadata": {},
   "source": [
    "# Example 11: Lambda Function"
   ]
  },
  {
   "cell_type": "code",
   "execution_count": 42,
   "metadata": {},
   "outputs": [
    {
     "name": "stdout",
     "output_type": "stream",
     "text": [
      "8\n"
     ]
    }
   ],
   "source": [
    "add = lambda x, y: x + y\n",
    "\n",
    "# Use the lambda function\n",
    "result = add(5, 3)\n",
    "print(result)"
   ]
  },
  {
   "cell_type": "code",
   "execution_count": 48,
   "metadata": {},
   "outputs": [
    {
     "data": {
      "text/plain": [
       "{1, 2, 3, 4, 5}"
      ]
     },
     "execution_count": 48,
     "metadata": {},
     "output_type": "execute_result"
    }
   ],
   "source": [
    "list = {1, 2, 3, 4, 5}\n",
    "list\n"
   ]
  },
  {
   "cell_type": "code",
   "execution_count": 49,
   "metadata": {},
   "outputs": [
    {
     "ename": "TypeError",
     "evalue": "'set' object is not callable",
     "output_type": "error",
     "traceback": [
      "\u001b[0;31m---------------------------------------------------------------------------\u001b[0m",
      "\u001b[0;31mTypeError\u001b[0m                                 Traceback (most recent call last)",
      "\u001b[0;32m/var/folders/jd/1mw4rphs4fxdvsbs3r0mmw780000gn/T/ipykernel_1168/1083860827.py\u001b[0m in \u001b[0;36m<module>\u001b[0;34m\u001b[0m\n\u001b[1;32m      3\u001b[0m \u001b[0;34m\u001b[0m\u001b[0m\n\u001b[1;32m      4\u001b[0m \u001b[0;31m# Use map() with a lambda function to square each number\u001b[0m\u001b[0;34m\u001b[0m\u001b[0;34m\u001b[0m\u001b[0;34m\u001b[0m\u001b[0m\n\u001b[0;32m----> 5\u001b[0;31m \u001b[0msquared_numbers\u001b[0m \u001b[0;34m=\u001b[0m \u001b[0mlist\u001b[0m\u001b[0;34m(\u001b[0m\u001b[0mmap\u001b[0m\u001b[0;34m(\u001b[0m\u001b[0;32mlambda\u001b[0m \u001b[0mx\u001b[0m\u001b[0;34m:\u001b[0m \u001b[0mx\u001b[0m\u001b[0;34m**\u001b[0m\u001b[0;36m2\u001b[0m\u001b[0;34m,\u001b[0m \u001b[0mnumbers\u001b[0m\u001b[0;34m)\u001b[0m\u001b[0;34m)\u001b[0m\u001b[0;34m\u001b[0m\u001b[0;34m\u001b[0m\u001b[0m\n\u001b[0m\u001b[1;32m      6\u001b[0m \u001b[0;34m\u001b[0m\u001b[0m\n\u001b[1;32m      7\u001b[0m \u001b[0mprint\u001b[0m\u001b[0;34m(\u001b[0m\u001b[0msquared_numbers\u001b[0m\u001b[0;34m)\u001b[0m\u001b[0;34m\u001b[0m\u001b[0;34m\u001b[0m\u001b[0m\n",
      "\u001b[0;31mTypeError\u001b[0m: 'set' object is not callable"
     ]
    }
   ],
   "source": [
    "# Create a list of numbers\n",
    "numbers = [1, 2, 3, 4, 5]\n",
    "\n",
    "# Use map() with a lambda function to square each number\n",
    "squared_numbers = list(map(lambda x: x**2, numbers))\n",
    "\n",
    "print(squared_numbers)  \n"
   ]
  },
  {
   "attachments": {},
   "cell_type": "markdown",
   "metadata": {},
   "source": [
    "## LAB TASK 2"
   ]
  },
  {
   "attachments": {},
   "cell_type": "markdown",
   "metadata": {},
   "source": [
    "Create three variables representing your name, age, and favorite color. Print a message using these\n",
    "variables"
   ]
  },
  {
   "cell_type": "code",
   "execution_count": 50,
   "metadata": {},
   "outputs": [
    {
     "name": "stdout",
     "output_type": "stream",
     "text": [
      "My name is Talha ,i'm 21 years old, my favourite color is Black\n"
     ]
    }
   ],
   "source": [
    "name = 'Talha'\n",
    "age = 21\n",
    "color = \"Black\"\n",
    "\n",
    "print(f\"My name is {name} ,i'm {age} years old, my favourite color is {color}\")"
   ]
  },
  {
   "attachments": {},
   "cell_type": "markdown",
   "metadata": {},
   "source": [
    "b. Ask the user for their name and then print a personalized greeting."
   ]
  },
  {
   "cell_type": "code",
   "execution_count": null,
   "metadata": {},
   "outputs": [],
   "source": []
  }
 ],
 "metadata": {
  "kernelspec": {
   "display_name": "Python 3",
   "language": "python",
   "name": "python3"
  },
  "language_info": {
   "codemirror_mode": {
    "name": "ipython",
    "version": 3
   },
   "file_extension": ".py",
   "mimetype": "text/x-python",
   "name": "python",
   "nbconvert_exporter": "python",
   "pygments_lexer": "ipython3",
   "version": "3.7.6"
  },
  "orig_nbformat": 4,
  "vscode": {
   "interpreter": {
    "hash": "aee8b7b246df8f9039afb4144a1f6fd8d2ca17a180786b69acc140d282b71a49"
   }
  }
 },
 "nbformat": 4,
 "nbformat_minor": 2
}
